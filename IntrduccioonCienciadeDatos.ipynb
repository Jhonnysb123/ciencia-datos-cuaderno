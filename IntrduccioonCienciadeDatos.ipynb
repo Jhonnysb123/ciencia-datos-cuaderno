{
 "cells": [
  {
   "cell_type": "markdown",
   "metadata": {},
   "source": [
    "# Introducción a la Ciencia de Datos\n"
   ]
  },
  {
   "cell_type": "markdown",
   "metadata": {},
   "source": [
    "## Introducción\n",
    "En este cuaderno exploraremos conceptos básicos de la Ciencia de Datos, incluyendo lenguajes, bibliotecas y herramientas utilizadas en el campo. También realizaremos algunos cálculos básicos como ejemplos prácticos.\n"
   ]
  },
  {
   "cell_type": "markdown",
   "metadata": {},
   "source": [
    "## Lenguajes de la Ciencia de Datos\n",
    "- Python\n",
    "- R\n",
    "- SQL\n",
    "- Julia\n",
    "- Scala"
   ]
  },
  {
   "cell_type": "markdown",
   "metadata": {},
   "source": [
    "## Bibliotecas de Ciencia de Datos\n",
    "- NumPy\n",
    "- Pandas\n",
    "- Matplotlib\n",
    "- Scikit-learn\n",
    "- TensorFlow\n",
    "- PyTorch\n"
   ]
  },
  {
   "cell_type": "markdown",
   "metadata": {},
   "source": [
    "## Herramientas de Ciencia de Datos\n",
    "| Herramienta         | Uso principal                        |\n",
    "|----------------------|--------------------------------------|\n",
    "| Jupyter Notebook     | Creación de cuadernos interactivos  |\n",
    "| RStudio             | Desarrollo en R                     |\n",
    "| Apache Spark        | Procesamiento de grandes datos      |\n",
    "| Tableau             | Visualización de datos              |\n",
    "| Google Colab        | Ejecución de código en la nube      |\n"
   ]
  },
  {
   "cell_type": "markdown",
   "metadata": {},
   "source": [
    "## Ejemplos de expresiones aritméticas\n",
    "Las expresiones aritméticas son operaciones matemáticas que se pueden realizar en datos. Por ejemplo:\n",
    "- Suma: `2 + 3 = 5`\n",
    "- Multiplicación: `4 * 5 = 20`\n",
    "- División: `10 / 2 = 5`\n"
   ]
  },
  {
   "cell_type": "code",
   "execution_count": 2,
   "metadata": {},
   "outputs": [
    {
     "name": "stdout",
     "output_type": "stream",
     "text": [
      "El resultado es: 55\n"
     ]
    }
   ],
   "source": [
    "# Multiplicar y sumar números\n",
    "a = 10\n",
    "b = 5\n",
    "resultado = (a * b) + b\n",
    "print(\"El resultado es:\", resultado)"
   ]
  },
  {
   "cell_type": "code",
   "execution_count": 3,
   "metadata": {},
   "outputs": [
    {
     "name": "stdout",
     "output_type": "stream",
     "text": [
      "120 minutos son 2.0 horas.\n"
     ]
    }
   ],
   "source": [
    "# Convertir minutos a horas\n",
    "minutos = 120\n",
    "horas = minutos / 60\n",
    "print(f\"{minutos} minutos son {horas} horas.\")"
   ]
  },
  {
   "cell_type": "code",
   "execution_count": 4,
   "metadata": {},
   "outputs": [
    {
     "name": "stdout",
     "output_type": "stream",
     "text": [
      "- Entender conceptos básicos de Ciencia de Datos\n",
      "- Practicar expresiones aritméticas\n",
      "- Explorar lenguajes y herramientas\n"
     ]
    }
   ],
   "source": [
    "# Lista de objetivos\n",
    "objetivos = [\"Entender conceptos básicos de Ciencia de Datos\",\n",
    "             \"Practicar expresiones aritméticas\",\n",
    "             \"Explorar lenguajes y herramientas\"]\n",
    "for objetivo in objetivos:\n",
    "    print(\"- \" + objetivo)\n"
   ]
  },
  {
   "cell_type": "markdown",
   "metadata": {},
   "source": [
    "## Autor\n",
    "Nombre: Jhonny Alexander Martinez Tenjo"
   ]
  },
  {
   "cell_type": "code",
   "execution_count": null,
   "metadata": {},
   "outputs": [],
   "source": []
  }
 ],
 "metadata": {
  "kernelspec": {
   "display_name": "Python 3",
   "language": "python",
   "name": "python3"
  },
  "language_info": {
   "codemirror_mode": {
    "name": "ipython",
    "version": 3
   },
   "file_extension": ".py",
   "mimetype": "text/x-python",
   "name": "python",
   "nbconvert_exporter": "python",
   "pygments_lexer": "ipython3",
   "version": "3.7.6"
  }
 },
 "nbformat": 4,
 "nbformat_minor": 4
}
